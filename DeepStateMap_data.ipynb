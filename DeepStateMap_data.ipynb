{
  "cells": [
    {
      "cell_type": "code",
      "execution_count": 1,
      "metadata": {
        "id": "mte6Hk8vMbFQ"
      },
      "outputs": [],
      "source": [
        "import requests\n",
        "import geopandas as gpd\n",
        "from shapely.geometry import shape\n",
        "from shapely.geometry import Polygon\n",
        "from shapely.geometry import Point\n",
        "from shapely import wkt\n",
        "from shapely.geometry import JOIN_STYLE\n",
        "import matplotlib.pyplot as plt "
      ]
    },
    {
      "cell_type": "markdown",
      "metadata": {},
      "source": [
        "## Data Import"
      ]
    },
    {
      "cell_type": "markdown",
      "metadata": {
        "id": "pRUtlDnMii6q"
      },
      "source": [
        "**To find the URL path to the deepstatemap API do the following:**\n",
        "1. Open **developer tools** (inspect)\n",
        "2. Go to the **network tab** to see the rquests made by the webpage\n",
        "3. Reload the page to trigger data requests\n",
        "4. Filter requests by **Fetch/XHR**\n",
        "5. Check some filtered requests, with active preview tab, to find the one which contains **feature** or **geometry** keys\n",
        "6. Right-click on the request name and choose **Open in new tab** > **Pretty-print** to verify if it is the correct request.\n",
        "7. Copy the URL **https://deepstatemap.live/api/history/last**"
      ]
    },
    {
      "cell_type": "code",
      "execution_count": 2,
      "metadata": {
        "id": "YCiuy-Oc5WOx"
      },
      "outputs": [],
      "source": [
        "url = 'https://deepstatemap.live/api/history/last'"
      ]
    },
    {
      "cell_type": "code",
      "execution_count": 3,
      "metadata": {
        "colab": {
          "base_uri": "https://localhost:8080/"
        },
        "id": "YpIs-jME5Ybh",
        "outputId": "3159881b-7070-40b4-b8e9-1761e617c382"
      },
      "outputs": [
        {
          "data": {
            "text/plain": [
              "200"
            ]
          },
          "execution_count": 3,
          "metadata": {},
          "output_type": "execute_result"
        }
      ],
      "source": [
        "# Store the response and check if the status code is 200\n",
        "response = requests.get(url)\n",
        "response.status_code"
      ]
    },
    {
      "cell_type": "code",
      "execution_count": 4,
      "metadata": {
        "colab": {
          "base_uri": "https://localhost:8080/"
        },
        "id": "OtPeQlBN5giR",
        "outputId": "ca2e7317-c1af-48bc-d4ae-9b217845f7ae"
      },
      "outputs": [
        {
          "data": {
            "text/plain": [
              "dict_keys(['id', 'map', 'datetime'])"
            ]
          },
          "execution_count": 4,
          "metadata": {},
          "output_type": "execute_result"
        }
      ],
      "source": [
        "# Encode the response into a json format and check keys\n",
        "deep_state_data_raw = response.json()\n",
        "deep_state_data_raw.keys()"
      ]
    },
    {
      "cell_type": "code",
      "execution_count": 5,
      "metadata": {
        "colab": {
          "base_uri": "https://localhost:8080/"
        },
        "id": "TXsflgULQQL8",
        "outputId": "e6669e53-7b52-4460-84a0-29ac941d1362"
      },
      "outputs": [
        {
          "data": {
            "text/plain": [
              "dict_keys(['type', 'features'])"
            ]
          },
          "execution_count": 5,
          "metadata": {},
          "output_type": "execute_result"
        }
      ],
      "source": [
        "deep_state_data_raw['map'].keys()"
      ]
    },
    {
      "cell_type": "code",
      "execution_count": 6,
      "metadata": {
        "colab": {
          "base_uri": "https://localhost:8080/"
        },
        "id": "G5AMTmDwWjrk",
        "outputId": "692caf35-a6fa-4cc5-ce3c-d378553db20b"
      },
      "outputs": [
        {
          "name": "stdout",
          "output_type": "stream",
          "text": [
            "{'type': 'Feature', 'geometry': {'type': 'Polygon', 'coordinates': [[[35.4988711, 47.5108643, 0], [35.5094445, 47.5069227, 0], [35.5152972, 47.512315, 0], [35.539021, 47.519038, 0], [35.5479326, 47.52628, 0], [35.5672797, 47.5284839, 0], [35.592551, 47.519323, 0], [35.6131342, 47.5043006, 0], [35.6161569, 47.5043081, 0], [35.6165026, 47.5062368, 0], [35.6211815, 47.507665, 0], [35.6236289, 47.5058463, 0], [35.6369349, 47.5109636, 0], [35.6408407, 47.5074928, 0], [35.6329032, 47.502978, 0], [35.6346285, 47.5004876, 0], [35.654663, 47.500962, 0], [35.6704842, 47.5022091, 0], [35.6870634, 47.5097609, 0], [35.6995239, 47.506848, 0], [35.7115039, 47.505541, 0], [35.70555, 47.5109315, 0], [35.692178, 47.5118843, 0], [35.682358, 47.510877, 0], [35.665363, 47.503572, 0], [35.656037, 47.504789, 0], [35.6501519, 47.5122452, 0], [35.6322479, 47.5166856, 0], [35.6101721, 47.5121134, 0], [35.595024, 47.523373, 0], [35.572193, 47.531951, 0], [35.51, 47.528718, 0], [35.479216, 47.526399, 0], [35.4769521, 47.5118862, 0], [35.4745488, 47.5044651, 0], [35.4611598, 47.5021141, 0], [35.4523631, 47.5066031, 0], [35.4376853, 47.5059948, 0], [35.4320211, 47.5070964, 0], [35.4203698, 47.5093643, 0], [35.4197045, 47.5197047, 0], [35.4035681, 47.5268044, 0], [35.3840963, 47.5244061, 0], [35.3815692, 47.5329139, 0], [35.3835052, 47.5369014, 0], [35.369166, 47.5342873, 0], [35.3659289, 47.5351931, 0], [35.3649692, 47.5318681, 0], [35.376455, 47.5246886, 0], [35.3760556, 47.5202236, 0], [35.3841959, 47.5154398, 0], [35.4143695, 47.5164307, 0], [35.4169025, 47.5088946, 0], [35.4226959, 47.5058198, 0], [35.4312031, 47.5059976, 0], [35.43765, 47.5035079, 0], [35.4456078, 47.5039494, 0], [35.454356, 47.4999972, 0], [35.471171, 47.4965074, 0], [35.4882243, 47.5019664, 0], [35.4869806, 47.5111117, 0], [35.4988711, 47.5108643, 0]]]}, 'properties': {'name': 'Статус невідомий /// Unknown status /// geoJSON.status.unknown', 'styleUrl': '#poly-BCAAA4-2000-77-nodesc', 'styleHash': '-14fcf160', 'styleMapHash': {'normal': '#poly-BCAAA4-2000-77-nodesc-normal', 'highlight': '#poly-BCAAA4-2000-77-nodesc-highlight'}, 'stroke-opacity': 1, 'stroke': '#bcaaa4', 'stroke-width': 2, 'fill-opacity': 0.30196078431372547, 'fill': '#bcaaa4'}}\n"
          ]
        }
      ],
      "source": [
        "# Retrieve a sample with some geospatial data\n",
        "for f in deep_state_data_raw['map']['features']:\n",
        "  print(f)\n",
        "  break"
      ]
    },
    {
      "cell_type": "code",
      "execution_count": 7,
      "metadata": {
        "colab": {
          "base_uri": "https://localhost:8080/"
        },
        "id": "0s8JLJUuWx5M",
        "outputId": "6342474e-753f-48b0-bc5e-ce9439e1ad53"
      },
      "outputs": [
        {
          "name": "stdout",
          "output_type": "stream",
          "text": [
            "Статус невідомий /// Unknown status /// geoJSON.status.unknown\n",
            "{'type': 'Polygon', 'coordinates': [[[35.4988711, 47.5108643, 0], [35.5094445, 47.5069227, 0], [35.5152972, 47.512315, 0], [35.539021, 47.519038, 0], [35.5479326, 47.52628, 0], [35.5672797, 47.5284839, 0], [35.592551, 47.519323, 0], [35.6131342, 47.5043006, 0], [35.6161569, 47.5043081, 0], [35.6165026, 47.5062368, 0], [35.6211815, 47.507665, 0], [35.6236289, 47.5058463, 0], [35.6369349, 47.5109636, 0], [35.6408407, 47.5074928, 0], [35.6329032, 47.502978, 0], [35.6346285, 47.5004876, 0], [35.654663, 47.500962, 0], [35.6704842, 47.5022091, 0], [35.6870634, 47.5097609, 0], [35.6995239, 47.506848, 0], [35.7115039, 47.505541, 0], [35.70555, 47.5109315, 0], [35.692178, 47.5118843, 0], [35.682358, 47.510877, 0], [35.665363, 47.503572, 0], [35.656037, 47.504789, 0], [35.6501519, 47.5122452, 0], [35.6322479, 47.5166856, 0], [35.6101721, 47.5121134, 0], [35.595024, 47.523373, 0], [35.572193, 47.531951, 0], [35.51, 47.528718, 0], [35.479216, 47.526399, 0], [35.4769521, 47.5118862, 0], [35.4745488, 47.5044651, 0], [35.4611598, 47.5021141, 0], [35.4523631, 47.5066031, 0], [35.4376853, 47.5059948, 0], [35.4320211, 47.5070964, 0], [35.4203698, 47.5093643, 0], [35.4197045, 47.5197047, 0], [35.4035681, 47.5268044, 0], [35.3840963, 47.5244061, 0], [35.3815692, 47.5329139, 0], [35.3835052, 47.5369014, 0], [35.369166, 47.5342873, 0], [35.3659289, 47.5351931, 0], [35.3649692, 47.5318681, 0], [35.376455, 47.5246886, 0], [35.3760556, 47.5202236, 0], [35.3841959, 47.5154398, 0], [35.4143695, 47.5164307, 0], [35.4169025, 47.5088946, 0], [35.4226959, 47.5058198, 0], [35.4312031, 47.5059976, 0], [35.43765, 47.5035079, 0], [35.4456078, 47.5039494, 0], [35.454356, 47.4999972, 0], [35.471171, 47.4965074, 0], [35.4882243, 47.5019664, 0], [35.4869806, 47.5111117, 0], [35.4988711, 47.5108643, 0]]]}\n"
          ]
        }
      ],
      "source": [
        "# Display name and geometry separately\n",
        "for f in deep_state_data_raw['map']['features']:\n",
        "  geom = f['geometry']\n",
        "  name = f['properties']['name']\n",
        "  print(name)\n",
        "  print(geom)\n",
        "  break"
      ]
    },
    {
      "cell_type": "code",
      "execution_count": 8,
      "metadata": {
        "colab": {
          "base_uri": "https://localhost:8080/"
        },
        "id": "b5plM-J4YEFh",
        "outputId": "03cb9b6b-74f8-49e3-871f-848f81f36566"
      },
      "outputs": [
        {
          "name": "stdout",
          "output_type": "stream",
          "text": [
            "POLYGON Z ((35.4988711 47.5108643 0, 35.5094445 47.5069227 0, 35.5152972 47.512315 0, 35.539021 47.519038 0, 35.5479326 47.52628 0, 35.5672797 47.5284839 0, 35.592551 47.519323 0, 35.6131342 47.5043006 0, 35.6161569 47.5043081 0, 35.6165026 47.5062368 0, 35.6211815 47.507665 0, 35.6236289 47.5058463 0, 35.6369349 47.5109636 0, 35.6408407 47.5074928 0, 35.6329032 47.502978 0, 35.6346285 47.5004876 0, 35.654663 47.500962 0, 35.6704842 47.5022091 0, 35.6870634 47.5097609 0, 35.6995239 47.506848 0, 35.7115039 47.505541 0, 35.70555 47.5109315 0, 35.692178 47.5118843 0, 35.682358 47.510877 0, 35.665363 47.503572 0, 35.656037 47.504789 0, 35.6501519 47.5122452 0, 35.6322479 47.5166856 0, 35.6101721 47.5121134 0, 35.595024 47.523373 0, 35.572193 47.531951 0, 35.51 47.528718 0, 35.479216 47.526399 0, 35.4769521 47.5118862 0, 35.4745488 47.5044651 0, 35.4611598 47.5021141 0, 35.4523631 47.5066031 0, 35.4376853 47.5059948 0, 35.4320211 47.5070964 0, 35.4203698 47.5093643 0, 35.4197045 47.5197047 0, 35.4035681 47.5268044 0, 35.3840963 47.5244061 0, 35.3815692 47.5329139 0, 35.3835052 47.5369014 0, 35.369166 47.5342873 0, 35.3659289 47.5351931 0, 35.3649692 47.5318681 0, 35.376455 47.5246886 0, 35.3760556 47.5202236 0, 35.3841959 47.5154398 0, 35.4143695 47.5164307 0, 35.4169025 47.5088946 0, 35.4226959 47.5058198 0, 35.4312031 47.5059976 0, 35.43765 47.5035079 0, 35.4456078 47.5039494 0, 35.454356 47.4999972 0, 35.471171 47.4965074 0, 35.4882243 47.5019664 0, 35.4869806 47.5111117 0, 35.4988711 47.5108643 0))\n"
          ]
        }
      ],
      "source": [
        "# Convert geomerty data into a shapely object\n",
        "for f in deep_state_data_raw['map']['features']:\n",
        "  geom = f['geometry']\n",
        "  print(shape(geom))\n",
        "  break"
      ]
    },
    {
      "cell_type": "code",
      "execution_count": 9,
      "metadata": {
        "colab": {
          "base_uri": "https://localhost:8080/"
        },
        "id": "ptsIzVrlZKAx",
        "outputId": "7374217b-553c-4070-d836-9ea492bb9a9a"
      },
      "outputs": [
        {
          "name": "stdout",
          "output_type": "stream",
          "text": [
            "\n"
          ]
        }
      ],
      "source": [
        "# Remove z coordinate\n",
        "for f in deep_state_data_raw['map']['features']:\n",
        "  geom_z = f['geometry']\n",
        "  geom = wkt.loads(wkt.dumps(shape(geom), output_dimension=2))  # Geopandas wkt is used here to remove z coord\n",
        "  print()\n",
        "  break"
      ]
    },
    {
      "cell_type": "code",
      "execution_count": 10,
      "metadata": {
        "id": "VXaExRQMZ8Nb"
      },
      "outputs": [],
      "source": [
        "# Populate list with the modified data (dictionaries)\n",
        "geo_list = []\n",
        "for f in deep_state_data_raw['map']['features']:\n",
        "  geom = f['geometry']\n",
        "  name = f['properties']['name']\n",
        "  new_feature = {\n",
        "      \"name\":name,\n",
        "      \"geometry\":wkt.loads(wkt.dumps(shape(geom), output_dimension=2))\n",
        "      }\n",
        "\n",
        "  geo_list.append(new_feature)"
      ]
    },
    {
      "cell_type": "code",
      "execution_count": 11,
      "metadata": {
        "colab": {
          "base_uri": "https://localhost:8080/"
        },
        "id": "Dokq_TsanTMg",
        "outputId": "c15d44d1-0aa6-4afe-8181-d9d5f77f7993"
      },
      "outputs": [
        {
          "data": {
            "text/plain": [
              "456"
            ]
          },
          "execution_count": 11,
          "metadata": {},
          "output_type": "execute_result"
        }
      ],
      "source": [
        "len(geo_list)"
      ]
    },
    {
      "cell_type": "code",
      "execution_count": 12,
      "metadata": {
        "colab": {
          "base_uri": "https://localhost:8080/"
        },
        "id": "j1P9XoEvhxx-",
        "outputId": "6f1ad686-90f4-4aae-a7f4-91bed22b59d2"
      },
      "outputs": [
        {
          "name": "stdout",
          "output_type": "stream",
          "text": [
            "{'name': 'Статус невідомий /// Unknown status /// geoJSON.status.unknown', 'geometry': <POLYGON ((35.499 47.511, 35.509 47.507, 35.515 47.512, 35.539 47.519, 35.54...>}\n",
            "{'name': 'Статус невідомий /// Unknown status\\xa0/// geoJSON.status.unknown', 'geometry': <POLYGON ((38.064 49.101, 38.077 49.114, 38.081 49.124, 38.084 49.134, 38.07...>}\n",
            "{'name': 'Статус невідомий /// Unknown status /// geoJSON.status.unknown', 'geometry': <POLYGON ((36.087 47.574, 36.106 47.579, 36.117 47.578, 36.128 47.575, 36.13...>}\n",
            "{'name': 'Статус невідомий /// Unknown status\\xa0/// geoJSON.status.unknown', 'geometry': <POLYGON ((37.591 48.066, 37.598 48.071, 37.591 48.077, 37.586 48.079, 37.57...>}\n",
            "{'name': 'Статус невідомий /// Unknown status\\xa0/// geoJSON.status.unknown\\n', 'geometry': <POLYGON ((36.944 47.773, 36.93 47.758, 36.905 47.758, 36.89 47.754, 36.854 ...>}\n",
            "{'name': 'Статус невідомий /// Unknown status\\xa0/// geoJSON.status.unknown\\n', 'geometry': <POLYGON ((35.793 47.465, 35.791 47.454, 35.798 47.45, 35.809 47.448, 35.814...>}\n",
            "{'name': 'Статус невідомий /// Unknown status\\xa0/// geoJSON.status.unknown', 'geometry': <POLYGON ((37.26 47.761, 37.288 47.761, 37.29 47.762, 37.295 47.763, 37.298 ...>}\n",
            "{'name': 'Статус невідомий /// Unknown status\\xa0/// geoJSON.status.unknown\\n', 'geometry': <POLYGON ((32.839 46.686, 32.825 46.679, 32.827 46.678, 32.825 46.676, 32.80...>}\n",
            "{'name': 'Статус невідомий /// Unknown status\\xa0/// geoJSON.status.unknown\\n', 'geometry': <POLYGON ((37.9 48.704, 37.911 48.699, 37.908 48.694, 37.91 48.693, 37.912 4...>}\n",
            "{'name': 'Статус невідомий /// Unknown status\\xa0/// geoJSON.status.unknown\\n', 'geometry': <POLYGON ((37.878 48.66, 37.885 48.652, 37.888 48.651, 37.89 48.649, 37.887 ...>}\n",
            "{'name': 'Статус невідомий /// Unknown status\\xa0/// geoJSON.status.unknown', 'geometry': <POLYGON ((37.563 48.13, 37.569 48.131, 37.565 48.139, 37.559 48.147, 37.549...>}\n",
            "{'name': 'Статус невідомий /// Unknown status /// geoJSON.status.unknown\\n', 'geometry': <POLYGON ((32.342 46.533, 32.346 46.533, 32.348 46.534, 32.348 46.535, 32.35...>}\n",
            "{'name': 'Статус невідомий /// Unknown status /// geoJSON.status.unknown\\n', 'geometry': <POLYGON ((36.428 50.247, 36.437 50.245, 36.432 50.239, 36.421 50.226, 36.42...>}\n",
            "{'name': 'Статус невідомий /// Unknown status /// geoJSON.status.unknown\\n', 'geometry': <POLYGON ((36.996 50.349, 36.987 50.328, 36.994 50.322, 37.005 50.32, 37.005...>}\n",
            "{'name': 'Звільнено /// Liberated\\xa0/// geoJSON.status.dismissed\\n', 'geometry': <POLYGON ((37.256 47.77, 37.255 47.764, 37.26 47.764, 37.265 47.766, 37.293 ...>}\n",
            "{'name': 'Звільнено /// Liberated\\xa0/// geoJSON.status.dismissed\\n', 'geometry': <POLYGON ((38.015 48.746, 38.017 48.743, 38.026 48.745, 38.027 48.751, 38.03...>}\n",
            "{'name': 'Звільнено /// Liberated\\xa0/// geoJSON.status.dismissed\\n', 'geometry': <POLYGON ((37.885 48.68, 37.89 48.682, 37.894 48.682, 37.896 48.682, 37.9 48...>}\n",
            "{'name': 'Звільнено /// Liberated\\xa0/// geoJSON.status.dismissed\\n', 'geometry': <POLYGON ((37.878 48.66, 37.872 48.656, 37.872 48.651, 37.88 48.641, 37.887 ...>}\n",
            "{'name': 'Звільнено /// Liberated\\xa0/// geoJSON.status.dismissed\\n', 'geometry': <POLYGON ((37.881 48.548, 37.879 48.543, 37.877 48.542, 37.879 48.538, 37.87...>}\n",
            "{'name': 'Звільнено 25.03 /// Liberated 25.03\\xa0/// geoJSON.status.dismissed_at {{at:25.03}}', 'geometry': <POLYGON ((34.942 50.491, 34.926 50.49, 34.918 50.474, 34.938 50.468, 34.942...>}\n"
          ]
        }
      ],
      "source": [
        "# Print a few lines of the new dictionary\n",
        "for index, item in enumerate(geo_list):\n",
        "  if index < 20:\n",
        "    print(item)"
      ]
    },
    {
      "cell_type": "code",
      "execution_count": 13,
      "metadata": {
        "id": "YV_oapXs6eJO"
      },
      "outputs": [],
      "source": [
        "# Split the name by '///' and take the first part\n",
        "def extract_first_part(name, part=0):\n",
        "    first_part = name.split('///')[part].strip()\n",
        "    return first_part"
      ]
    },
    {
      "cell_type": "code",
      "execution_count": 14,
      "metadata": {
        "colab": {
          "base_uri": "https://localhost:8080/"
        },
        "id": "TI83SEbVnvl-",
        "outputId": "3f05022c-fac8-47fa-87dc-6abc600b5656"
      },
      "outputs": [
        {
          "name": "stdout",
          "output_type": "stream",
          "text": [
            "Статус невідомий\n"
          ]
        }
      ],
      "source": [
        "# Check if it correctly retrieves the name in Ukrainian\n",
        "for n in geo_list:\n",
        "  print(extract_first_part(n['name']))\n",
        "  break"
      ]
    },
    {
      "cell_type": "code",
      "execution_count": 15,
      "metadata": {
        "colab": {
          "base_uri": "https://localhost:8080/"
        },
        "id": "yt6kd_pHpCX5",
        "outputId": "442e9a90-2e9b-4b6c-b0ae-41cdfaba96f7"
      },
      "outputs": [
        {
          "name": "stdout",
          "output_type": "stream",
          "text": [
            "Unknown status\n"
          ]
        }
      ],
      "source": [
        "# Check if it correctly retrieves the name in English\n",
        "for n in geo_list:\n",
        "  print(extract_first_part(n['name'], part=1))\n",
        "  break"
      ]
    },
    {
      "cell_type": "code",
      "execution_count": 16,
      "metadata": {
        "colab": {
          "base_uri": "https://localhost:8080/"
        },
        "id": "2rZBb2dBqHVi",
        "outputId": "2690779d-b195-41db-8d5b-6d048a7b775f"
      },
      "outputs": [
        {
          "name": "stdout",
          "output_type": "stream",
          "text": [
            "{'name': 'Unknown status', 'geometry': <POLYGON ((35.499 47.511, 35.509 47.507, 35.515 47.512, 35.539 47.519, 35.54...>}\n"
          ]
        }
      ],
      "source": [
        "# Apply the function to all 'name' values\n",
        "for item in geo_list:\n",
        "  item['name'] = extract_first_part(item['name'], part=1)\n",
        "\n",
        "print(geo_list[0])"
      ]
    },
    {
      "cell_type": "code",
      "execution_count": 17,
      "metadata": {
        "colab": {
          "base_uri": "https://localhost:8080/",
          "height": 184
        },
        "id": "YmOndclOsr_p",
        "outputId": "7ec13e82-0f6f-470d-9d17-43529012a09f"
      },
      "outputs": [
        {
          "data": {
            "text/plain": [
              "<Axes: >"
            ]
          },
          "execution_count": 17,
          "metadata": {},
          "output_type": "execute_result"
        },
        {
          "data": {
            "image/png": "[encoded data removed]",
            "text/plain": [
              "<Figure size 640x480 with 1 Axes>"
            ]
          },
          "metadata": {},
          "output_type": "display_data"
        }
      ],
      "source": [
        "# Plot the data\n",
        "gpd.GeoDataFrame(geo_list).plot()"
      ]
    },
    {
      "cell_type": "markdown",
      "metadata": {},
      "source": [
        "## GeoDataFrame Cleaning"
      ]
    },
    {
      "cell_type": "code",
      "execution_count": 18,
      "metadata": {
        "colab": {
          "base_uri": "https://localhost:8080/"
        },
        "id": "tSrr_z8EtOkU",
        "outputId": "843d033e-2d33-4030-910c-7b4e27f16e60"
      },
      "outputs": [
        {
          "name": "stdout",
          "output_type": "stream",
          "text": [
            "None\n",
            "\n",
            "Point      354\n",
            "Polygon    102\n",
            "Name: count, dtype: int64\n",
            "\n",
            "name        False\n",
            "geometry    False\n",
            "dtype: bool\n",
            "\n",
            "False\n"
          ]
        }
      ],
      "source": [
        "# Convert list of dictionaries into GeoDataFrame, and display some info\n",
        "raw_deepstatemap_gdf = gpd.GeoDataFrame(geo_list)\n",
        "print(raw_deepstatemap_gdf.crs, end='\\n\\n')\n",
        "print(raw_deepstatemap_gdf.geom_type.value_counts(), end='\\n\\n')\n",
        "print(raw_deepstatemap_gdf.isna().all(), end='\\n\\n')\n",
        "print(raw_deepstatemap_gdf.is_empty.any())"
      ]
    },
    {
      "cell_type": "code",
      "execution_count": 19,
      "metadata": {
        "colab": {
          "base_uri": "https://localhost:8080/",
          "height": 35
        },
        "id": "awREUqUv5xSM",
        "outputId": "92c2d2ca-d129-4234-84f8-055ca2618ff9"
      },
      "outputs": [
        {
          "data": {
            "text/plain": [
              "'EPSG:4326'"
            ]
          },
          "execution_count": 19,
          "metadata": {},
          "output_type": "execute_result"
        }
      ],
      "source": [
        "# Set WSG84 (4326) as a coordinate reference system\n",
        "raw_deepstatemap_gdf = raw_deepstatemap_gdf.set_crs(4326)\n",
        "raw_deepstatemap_gdf.crs.srs"
      ]
    },
    {
      "cell_type": "code",
      "execution_count": 20,
      "metadata": {
        "colab": {
          "base_uri": "https://localhost:8080/",
          "height": 206
        },
        "id": "vK1iDzR1t8oL",
        "outputId": "29f3ba67-f815-4bfd-fd8f-10ef3d4df3a0"
      },
      "outputs": [
        {
          "data": {
            "text/html": [
              "<div>\n",
              "<style scoped>\n",
              "    .dataframe tbody tr th:only-of-type {\n",
              "        vertical-align: middle;\n",
              "    }\n",
              "\n",
              "    .dataframe tbody tr th {\n",
              "        vertical-align: top;\n",
              "    }\n",
              "\n",
              "    .dataframe thead th {\n",
              "        text-align: right;\n",
              "    }\n",
              "</style>\n",
              "<table border=\"1\" class=\"dataframe\">\n",
              "  <thead>\n",
              "    <tr style=\"text-align: right;\">\n",
              "      <th></th>\n",
              "      <th>name</th>\n",
              "      <th>geometry</th>\n",
              "    </tr>\n",
              "  </thead>\n",
              "  <tbody>\n",
              "    <tr>\n",
              "      <th>0</th>\n",
              "      <td>Unknown status</td>\n",
              "      <td>POLYGON ((35.49887 47.51086, 35.50944 47.50692...</td>\n",
              "    </tr>\n",
              "    <tr>\n",
              "      <th>1</th>\n",
              "      <td>Unknown status</td>\n",
              "      <td>POLYGON ((38.06427 49.10085, 38.07728 49.11434...</td>\n",
              "    </tr>\n",
              "    <tr>\n",
              "      <th>2</th>\n",
              "      <td>Unknown status</td>\n",
              "      <td>POLYGON ((36.08736 47.57385, 36.10572 47.5785,...</td>\n",
              "    </tr>\n",
              "    <tr>\n",
              "      <th>3</th>\n",
              "      <td>Unknown status</td>\n",
              "      <td>POLYGON ((37.59088 48.06616, 37.59795 48.07135...</td>\n",
              "    </tr>\n",
              "    <tr>\n",
              "      <th>4</th>\n",
              "      <td>Unknown status</td>\n",
              "      <td>POLYGON ((36.94437 47.77302, 36.92969 47.75837...</td>\n",
              "    </tr>\n",
              "  </tbody>\n",
              "</table>\n",
              "</div>"
            ],
            "text/plain": [
              "             name                                           geometry\n",
              "0  Unknown status  POLYGON ((35.49887 47.51086, 35.50944 47.50692...\n",
              "1  Unknown status  POLYGON ((38.06427 49.10085, 38.07728 49.11434...\n",
              "2  Unknown status  POLYGON ((36.08736 47.57385, 36.10572 47.5785,...\n",
              "3  Unknown status  POLYGON ((37.59088 48.06616, 37.59795 48.07135...\n",
              "4  Unknown status  POLYGON ((36.94437 47.77302, 36.92969 47.75837..."
            ]
          },
          "execution_count": 20,
          "metadata": {},
          "output_type": "execute_result"
        }
      ],
      "source": [
        "raw_deepstatemap_gdf.head()"
      ]
    },
    {
      "cell_type": "code",
      "execution_count": 21,
      "metadata": {
        "colab": {
          "base_uri": "https://localhost:8080/"
        },
        "id": "0r3TY3qIux98",
        "outputId": "6dc7c93a-cc7b-48cc-ee76-09ef7cdc7815"
      },
      "outputs": [
        {
          "data": {
            "text/plain": [
              "name        102\n",
              "geometry    102\n",
              "dtype: int64"
            ]
          },
          "execution_count": 21,
          "metadata": {},
          "output_type": "execute_result"
        }
      ],
      "source": [
        "# Check if filtering by Polygon type retrieves the same n of Polygons as seen before\n",
        "raw_deepstatemap_gdf[raw_deepstatemap_gdf.geometry.apply(lambda x: isinstance(x, Polygon))].count()"
      ]
    },
    {
      "cell_type": "code",
      "execution_count": 22,
      "metadata": {
        "id": "RKzUDNIOvd5U"
      },
      "outputs": [],
      "source": [
        "# Apply filter to gdf\n",
        "deepstatemap_gdf = raw_deepstatemap_gdf[raw_deepstatemap_gdf.geometry.apply(lambda x: isinstance(x, Polygon))].copy()"
      ]
    },
    {
      "cell_type": "code",
      "execution_count": 23,
      "metadata": {
        "colab": {
          "base_uri": "https://localhost:8080/",
          "height": 185
        },
        "id": "5Uo81qVLwwZZ",
        "outputId": "c53bd929-c573-4153-c4b0-80550beeecf6"
      },
      "outputs": [
        {
          "data": {
            "text/plain": [
              "<Axes: >"
            ]
          },
          "execution_count": 23,
          "metadata": {},
          "output_type": "execute_result"
        },
        {
          "data": {
            "image/png": "[encoded data removed]",
            "text/plain": [
              "<Figure size 640x480 with 1 Axes>"
            ]
          },
          "metadata": {},
          "output_type": "display_data"
        }
      ],
      "source": [
        "# Plot the filtered gdf\n",
        "deepstatemap_gdf.plot()"
      ]
    },
    {
      "cell_type": "code",
      "execution_count": 24,
      "metadata": {
        "colab": {
          "base_uri": "https://localhost:8080/"
        },
        "id": "l1TEVbuyuq04",
        "outputId": "86b3159c-5225-4132-ec5e-42d0401faf5c"
      },
      "outputs": [
        {
          "data": {
            "text/plain": [
              "array(['Unknown status', 'Liberated', 'Liberated 25.03',\n",
              "       'Liberated 16.03-17.03', 'Liberated 23.03', 'Liberated 27-31.03',\n",
              "       'Liberated 26.03', 'Liberated 27-29.03', 'Liberated 30.03',\n",
              "       'Liberated 05.04', 'Liberated 31.03', 'Liberated 02.07',\n",
              "       'Liberated 30.05', 'Snake Island', 'Liberated 26.06',\n",
              "       'Liberated 04.09', 'Occupied Petsamo', 'Occupied Salla',\n",
              "       'occupied Estonia territories.',\n",
              "       'Occupied Pechorsky district (Saaste Boot).',\n",
              "       'Occupied Latvia territories.', 'Occupied Southern Kuril islands.',\n",
              "       'Liberated 31.03 - 02.04', 'Transnistria',\n",
              "       'Occupied Tskhinvali district', 'Occupied Tuzla Island',\n",
              "       'CADR and CALR', 'Occupied', 'Occupied Crimea',\n",
              "       'East Prussia is temporarily occupied.', 'Occupied Abkhazia.',\n",
              "       'The temporarily occupied territory of Karelia.',\n",
              "       'The temporarily occupied territory of the Republic of Ichkeria.',\n",
              "       'Russian cruiser Moskva', 'Direction of attack', 'Kyiv', 'Minsk',\n",
              "       'Moscow',\n",
              "       'Places of concentration of illegal armed formations of the self-proclaimed republic of Belarus',\n",
              "       'Places of concentration of illegal armed formations of the self-proclaimed republic of Belarus\\xa0at the \"Lepelsky\" training ground',\n",
              "       '38th Separate Guards Air Assault Brigade', '5th Spetsnaz Brigade',\n",
              "       \"Orban's pro-Russian regime\",\n",
              "       '103rd Separate Guards Airborne Brigade',\n",
              "       'Saki airfield (Sign. LESNOY). 43rd Fighter Aviation Regiment of the air forces of Russia',\n",
              "       'Belbek Airport (Sign. ALMA).', 'Airfield Kacha (Sign BEGOVOY)',\n",
              "       'Gvardiyske Airfield (Sign Korshun)',\n",
              "       'Dzhankoi Airport (Sign BATAREYA)',\n",
              "       'Tiraspol Airport (Sign HRIBET)',\n",
              "       'Machulishi Airport (Sign. HORNOSTAY)',\n",
              "       'Zyabrovka airfield (Sign. Koraloviy)', 'Gomel airport',\n",
              "       'Mozyr Airport', 'Beriosa Airfield (Sign. RADIALNYI)',\n",
              "       'Vitebsk airfield (Sign. ISKORKA)',\n",
              "       'Bobruisk airfield (Sign. BAKLAN)',\n",
              "       'Lida Airfield (Sign. UNIKALNIY)',\n",
              "       'Baranovichi Airfield (Sign. KEDROVY)',\n",
              "       'Luninets airfield (Sign. ATARA)', 'Seshcha Airport (Sign. KEDR)',\n",
              "       'Millerovo airfield (Sign. PARADNY)',\n",
              "       'Morozovsk Airport (Sign MUSTANG)',\n",
              "       'Zimnyanskiy\\xa0Aerodrome (Beketovka)',\n",
              "       'Aerodrome Rostov-center (Sign. DOROZHNY)',\n",
              "       'Zernograd airfield (Pos. Voronoi, Kaima. Call signs are changing)',\n",
              "       'Chaplinka airfield', 'Engels Airfield (Sign. KARAKUL)',\n",
              "       'Sokol Airport (Sign. Uryuk)', 'Yeisk Airfield (Sign. Vulcan)',\n",
              "       'Primorsko-Akhtarsk airfield (Sign. TONALNY)',\n",
              "       'Crimean airfield (Sign. TAYMYR)',\n",
              "       'Krasnodar Center Airport (Sign. Volokno)',\n",
              "       'Korenivsk Airfield (Sign. ATAMAN)',\n",
              "       'Kushchevskaya Airport (Sign. Komandor)',\n",
              "       'Budyonnovsk airfield (Sign. KAZACHOK). 368th Assault Regiment',\n",
              "       'Shatalovo airfield (Sign. Nozhnytsy)',\n",
              "       'Shaikovka airfield (Sign. Rechnoy)',\n",
              "       'Lipetsk Airport 2 (Sign. VORSOVKA)',\n",
              "       'Voronezh Airport (Sign. BALTIMOR)',\n",
              "       'Buturlynivka airfield (Sign. Pryrodny)',\n",
              "       'Airfield Stariy Oskol (Sign. OSKOL)', 'Tomarovka Airport',\n",
              "       'Melitopol airfield', 'Taganrog-center Air Base (Sign. QUARTET)',\n",
              "       'Berdyansk Airport', 'Armavir airfield (Sign. BURAV).',\n",
              "       'Tikhoretsk Airport (Sign. Magistr)',\n",
              "       'Borisoglebsk airfield (Sign. OTVESNY)', 'Kirovskoye airfield',\n",
              "       'Helicopter base (Existed from May to September 2022)',\n",
              "       'Aerodrom Marinovka (Sign. PAMYATNY)',\n",
              "       'Halino\\xa0Aerodrom (Sign. Vostochny)', 'Air Base Ostrov',\n",
              "       'Akhtubinsk\\xa0Aerodrom', 'Volgograd International Airport',\n",
              "       'Airport\\xa0«Vytyazevo»', 'Soltsy-2 (air base)',\n",
              "       '7th separate reconnaissance battalion\\xa0 from the 47th TD',\n",
              "       '7th separate motorized rifle brigade', '41st Combined Arms Army',\n",
              "       '5nd squad BARS', '20th combined-arms army',\n",
              "       '3rd Motor Rifle Division', '144th Guards Motor Rifle Division',\n",
              "       '488th Motor Rifle Regiment (from the composition of 144 MRD)',\n",
              "       '1431st motorized rifle regiment of territorial troops',\n",
              "       '4th Guards Tank Division', '90th tank division',\n",
              "       '423rd Guards Yampolsky Motor Rifle Regiment', '7nd squad BARS',\n",
              "       '27th Separate Guards Motor Rifle Brigade',\n",
              "       '2nd motorized rifle division from the 1st TA',\n",
              "       '26th Tank Regiment from the 47th TD',\n",
              "       '138th Separate Guards Motor Rifle Brigade',\n",
              "       '25th Separate Guards Motor Rifle Brigade',\n",
              "       '245th Guards Motor Rifle Regiment', 'shoigists \"storm-z\"',\n",
              "       '385th Artillery Brigade',\n",
              "       '169th separate motorized rifle brigade',\n",
              "       '123rd Artillery Brigade',\n",
              "       '82nd Detached Guards Motorized Rifle Battalion',\n",
              "       '36th Separate Guards Motor Rifle Brigade',\n",
              "       '1843rd motorized rifle battalion',\n",
              "       '347th motorized rifle regiment',\n",
              "       '164th Mountain Motor Rifle Brigade',\n",
              "       '252nd motorized rifle regiment', '237th tank regiment',\n",
              "       '47th tank division', '79th Guards Motorized Rifle Regiment',\n",
              "       '9th Guards Artillery Brigade', '15th Guards Motor Rifle Regiment',\n",
              "       '1st Guards Motor Rifle Regiment',\n",
              "       '153rd Tank Regiment from the 47th TD, 1st TA',\n",
              "       '59th tank regiment (from the composition of 144 MRD)',\n",
              "       '1432nd motorized rifle regiment of territorial troops',\n",
              "       '856th self-propelled artillery regiment (from the composition of 144 MRD)',\n",
              "       '283rd motorizedrifle regiment (from the composition of 144 MRD)',\n",
              "       '380th Motor Rifle Regiment',\n",
              "       '137th Separate Guards Motor Rifle Brigade',\n",
              "       '228th motorizedrifle regiment (from the composition of 90 TD)',\n",
              "       '37th Motor Rifle Regiment', '30th Engineer Regiment',\n",
              "       '45th Engineer battalion', '31st Motor Rifle Regiment',\n",
              "       '1432nd motorized rifle regiment',\n",
              "       '752nd motorized rifle regiment', '1st tank regiment',\n",
              "       '12th tank regiment', '272nd Motor Rifle Regiment',\n",
              "       '26th Tank Regiment', '254nd Motor Rifle Regiment',\n",
              "       '7th Motor Rifle Regiment',\n",
              "       '81th self-propelled artillery regiment',\n",
              "       '96th Separate Rifle Regiment',\n",
              "       '744th self-propelled artillery regiment (from the composition of 47 TD)',\n",
              "       '433th motorizedrifle regiment (from the composition of 27 MRD)',\n",
              "       'units of the \"African Corps\"', '18th Motor Rifle Division',\n",
              "       '128th Separate Guards Motor Rifle Brigade',\n",
              "       '71st Guards Motorized Rifle Regiment',\n",
              "       '177th Separate Regiment of Marines',\n",
              "       '331st Airborne Regiment\\xa0from the\\xa098th Airborne Division',\n",
              "       '31st Guards Air Assault Brigade', '13nd squad BARS',\n",
              "       '2nd paratrooper battalion according to the 51st\\xa0Parachute Regiment',\n",
              "       '9th motorized rifle regiment under the 18th MRD',\n",
              "       '2nd motorized rifle battalion from the 57th SMBr',\n",
              "       '51th Guards Airborne Regiment rom the 106th Airborne Division',\n",
              "       '11th Separate Assault Brigade',\n",
              "       '4th Separate Motorized Rifle Brigade',\n",
              "       '72nd separate motorized rifle brigade',\n",
              "       '83rd Separate Guards Air Assault Brigade',\n",
              "       '217th Airborne Regiment\\xa0from the 98th Airborne Division',\n",
              "       '200th Separate Motor Rifle Brigade',\n",
              "       '137th Guards Airborne Regiment from the 106th Airborne Division',\n",
              "       'The 3rd motorized rifle battalion from the 123rd SMRB',\n",
              "       '6th Separate Motorized Rifle Regiment (LNR)',\n",
              "       '123rd separate motorized rifle brigade (formerly the 2nd Brigade)',\n",
              "       '14th Territorial Defense Battalion \"Prizrak\" (LPR)',\n",
              "       '2nd Army Corps', '10th artillery brigade of the LPR',\n",
              "       'Rosguard unit \"Akhmat\"', '102nd Motor Rifle Regiment',\n",
              "       'shoigists \"storm-v\"', '6th Separate Guards Motor Rifle Brigade',\n",
              "       '1307th Motor Rifle Regiment', 'Volunteer assault corps',\n",
              "       '51st motorized rifle regiment', '119th motorized rifle regiment',\n",
              "       '119th Guards Airborne Regiment',\n",
              "       '1008st motorized rifle regiment of territorial troops',\n",
              "       '1194st motorized rifle regiment of territorial troops',\n",
              "       '1442 motorized rifle regiment (military unit 95383)',\n",
              "       '299th Airborne Regiment from the 98th Airborne Division',\n",
              "       '7st Air Assault Brigade \"saint heorhiy\"',\n",
              "       '88th separate motorized rifle brigade',\n",
              "       '80th Guards Tank Red Banner Regiment',\n",
              "       '/7th Military Base (Abkhazia)',\n",
              "       '85th separate motorized rifle brigade',\n",
              "       '74th Separate Guards Motor Rifle Brigade',\n",
              "       '35th Separate Guards Motor Rifle Brigade',\n",
              "       '239th tank regiment (from the composition of 90 TD)',\n",
              "       '30th separate motorized rifle brigade',\n",
              "       '155th Separate Brigade of Marines',\n",
              "       '27th Motor Rifle Division\\xa0(formerly the 21th Brigade)',\n",
              "       '55th Mountain Motor Rifle Brigade',\n",
              "       '15th Separate Motor Rifle Brigade', '8th Combined Arms Army',\n",
              "       '150th Motorized Rifle Division', '238th Artillery Brigade',\n",
              "       '20th Motorized Rifle Division',\n",
              "       '33rd Guards Motorized Rifle Regiment',\n",
              "       '255th Guards Motorized Rifle Regiment', '1st Army Corps (DPR)',\n",
              "       'Somalia Battalion', 'Piatnashka\\xa0Battalion',\n",
              "       '1st separate motorized rifle \"Sloviansk\" brigade',\n",
              "       '2nd battalion of territorial defense of the DPR',\n",
              "       '9th separate motorized rifle brigade',\n",
              "       '114th separate motorized rifle brigade',\n",
              "       '109th Rifle Regiment DPR',\n",
              "       '117th\\xa0motorized rifle regiment DPR',\n",
              "       '132nd separate motorized rifle brigade (formerly the 3rd Brigade \"Berkut\")',\n",
              "       '87th Rifle Regiment',\n",
              "       '3rd Motorized Rifle Battalion from the 114th Infantry Brigade',\n",
              "       '277th Rifle Battalion', 'Part 111th separate rifle regiment',\n",
              "       '103rd Motorized Rifle Regiment\\xa0(from the composition of 150 MRD)',\n",
              "       '10-й ОТБ', '5th separate motorized rifle brigade \"Oplot\"',\n",
              "       '110th Separate Motorized Rifle Brigade',\n",
              "       '39th Separate Guards Motor Rifle Brigade',\n",
              "       'The 80th separate intelligence battalion \"Sparta\" named Fried\\xa0Cock',\n",
              "       '10th tank regiment',\n",
              "       '139th Separate Guards Motor Rifle Battalion',\n",
              "       '115th separate motorized rifle brigade',\n",
              "       '1465th motorized rifle regiment of territorial troops',\n",
              "       '1219th motorized rifle regiment of territorial troops',\n",
              "       '18th Machine Gun Artillery Division',\n",
              "       '1487th motorized rifle regiment of territorial troops',\n",
              "       '1140th motorized rifle regiment of territorial troops',\n",
              "       '163rd tank regiment', '242th Guards Motorized Rifle Regiment',\n",
              "       '57th Motor Rifle Regiment',\n",
              "       '1472th motorized rifle regiment of territorial troops',\n",
              "       '506th Motorized Rifle Regiment', '589th Motorized Rifle Regiment',\n",
              "       '104th Airborne Assault Regiment from the 76th Division',\n",
              "       '24th Motor Rifle Regiment',\n",
              "       '57th separate motorized rifle brigade',\n",
              "       '127th separate intelligence brigade',\n",
              "       '540th Detached Control Battalion', '58th combined-arms army',\n",
              "       '247th Guards Air Assault Regiment',\n",
              "       '234th Airborne Assault Regiment from the 76th Division',\n",
              "       '237th Airborne Assault Regiment from the 76th Division',\n",
              "       '113th Separate Guards Motorized Rifle Battalion',\n",
              "       '5th separate tank brigade',\n",
              "       '37th Separate Guards Motor Rifle Brigade',\n",
              "       '136th motorized rifle brigade', '19th Motorized Rifle Division',\n",
              "       '121st Regiment of the Mobilization Reserve of the DPR',\n",
              "       '123st Regiment (DPR)', '125st Regiment (DPR)',\n",
              "       '131st Regiment (DPR)', '429th Motorized Rifle Regiment',\n",
              "       '503rd Motorized Rifle Regiment',\n",
              "       '1430th motorized rifle regiment',\n",
              "       '143rd Motorized Rifle Regiment from the 127th\\xa0MRD',\n",
              "       '42nd Motorized Rifle Division', '78th motorized rifle regiment',\n",
              "       '291st Guards Motorized Rifle Regiment',\n",
              "       'Rosguard unit \"Akhmat-Centre\"',\n",
              "       '10th Separate Special Purpose Brigade',\n",
              "       '14th separate special purpose brigade',\n",
              "       '40th Naval Infantry Brigade',\n",
              "       '102nd separate brigade of operational assignment',\n",
              "       'Rosguard unit \"Akhmat-South\"', '5th Combined Arms Army',\n",
              "       '439th Guards Rocket Artillery Brigade',\n",
              "       '49th combined-arms army (RF)',\n",
              "       '34th Separate Motorized Rifle Brigade',\n",
              "       '205th Separate Motorized Rifle Brigade',\n",
              "       '227th Artillery Brigade', '385th\\xa0 Motorized Rifle Regiment',\n",
              "       '22nd Army Corps', '126th Separate Guards Coastal Defense Brigade',\n",
              "       '11th separate motorized rifle regiment',\n",
              "       '38th Separate Motorized Rifle Brigade',\n",
              "       '69th Separate Motorized Rifle Brigade',\n",
              "       '64th Separate Motorized Rifle Brigade',\n",
              "       '60th Separate Motorized Rifle Brigade',\n",
              "       '394th Motorized Rifle Regiment',\n",
              "       '336th Separate Brigade\\xa0of Marines',\n",
              "       '114th Motorized Rifle Regiment', '810th Naval Infantry Brigade',\n",
              "       'BARS \"Kherson\"', '7th Airborne Assault Division',\n",
              "       '417th separate reconnaissance battalion', '3rd squad BARS',\n",
              "       '125th separate motorized rifle brigade', '116th Rifle Regiment',\n",
              "       '1st squad BARS', '11th squad BARS', '14th squad BARS',\n",
              "       '218st Tank Regiment', '\"Bashkortostan\" regiment',\n",
              "       '1822nd battalion', '210th motorized rifle regiment',\n",
              "       '100th separate reconnaissance battalion',\n",
              "       '108th Airborne Assault Regiment', '56th\\xa0Air Assault Regiment',\n",
              "       '22nd separate special purpose brigade',\n",
              "       '45th Guards Spetsnaz Brigade', 'Rosguard unit \"Akhmat-East\"',\n",
              "       '201st motorized rifle regiment',\n",
              "       '1445th motorized rifle regiment',\n",
              "       '1152nd motorized rifle regiment',\n",
              "       '144th Separate Motorized Rifle Brigade',\n",
              "       '26-th motorized rifle regiment',\n",
              "       '328th Airborne Assault Regiment',\n",
              "       '337th Airborne Assault Regiment', '4th squad BARS',\n",
              "       '33rd squad BARS \"vosiliy morgeloff\"',\n",
              "       '345th Airborne Assault Regiment', '70th motorized rifle regiment',\n",
              "       '17th tank regiment', '28-th motorized rifle regiment',\n",
              "       'Air Assault Brigade \"Vitirany\"',\n",
              "       '1461st motorized rifle regiment of territorial troops',\n",
              "       '14th Spetsnaz Brigade', '428th Motorized Rifle Regiment',\n",
              "       '95th Separate Sapper Regiment',\n",
              "       '58th Separate Special Purpose Battalion'], dtype=object)"
            ]
          },
          "execution_count": 24,
          "metadata": {},
          "output_type": "execute_result"
        }
      ],
      "source": [
        "# Search through name values for the occupied Ukrainian polygons\n",
        "raw_deepstatemap_gdf['name'].unique()"
      ]
    },
    {
      "cell_type": "code",
      "execution_count": 25,
      "metadata": {
        "colab": {
          "base_uri": "https://localhost:8080/",
          "height": 422
        },
        "id": "NPQhpCFsw5kp",
        "outputId": "dd2fca2d-2e9a-49dc-dc0e-8fa4e3c03740"
      },
      "outputs": [
        {
          "data": {
            "text/plain": [
              "<Axes: >"
            ]
          },
          "execution_count": 25,
          "metadata": {},
          "output_type": "execute_result"
        },
        {
          "data": {
            "image/png": "[encoded data removed]",
            "text/plain": [
              "<Figure size 640x480 with 1 Axes>"
            ]
          },
          "metadata": {},
          "output_type": "display_data"
        }
      ],
      "source": [
        "# Plot the occupied areas\n",
        "deepstatemap_gdf[deepstatemap_gdf['name'].isin(['CADR and CALR', 'Occupied', 'Occupied Crimea'])].plot(cmap='viridis')"
      ]
    },
    {
      "cell_type": "code",
      "execution_count": 26,
      "metadata": {
        "colab": {
          "base_uri": "https://localhost:8080/"
        },
        "id": "42BZAlFaxO-m",
        "outputId": "eac58b6a-b642-4ebc-c3ad-735973ca2b34"
      },
      "outputs": [
        {
          "data": {
            "text/plain": [
              "(13, 3)"
            ]
          },
          "execution_count": 26,
          "metadata": {},
          "output_type": "execute_result"
        }
      ],
      "source": [
        "# Store data as a new gdf\n",
        "occupied_ua_gdf_raw = deepstatemap_gdf[deepstatemap_gdf['name'].isin(['CADR and CALR', 'Occupied', 'Occupied Crimea'])].copy().reset_index()\n",
        "occupied_ua_gdf_raw.shape"
      ]
    },
    {
      "cell_type": "markdown",
      "metadata": {},
      "source": [
        "## Data Freshness Verification\n",
        "\n",
        "I will compare recent changes in the warzone to the ones present here. \n",
        "\n",
        "For this, some random coordinates (wgs84 by default at DeepStateMap) of the newly occupied territory will be used.  "
      ]
    },
    {
      "cell_type": "code",
      "execution_count": 27,
      "metadata": {
        "colab": {
          "base_uri": "https://localhost:8080/",
          "height": 121
        },
        "id": "xy1SfsWbzfCL",
        "outputId": "9002a006-5d3f-40df-e79d-266268ae6cdc"
      },
      "outputs": [
        {
          "data": {
            "image/svg+xml": [
              "<svg xmlns=\"http://www.w3.org/2000/svg\" xmlns:xlink=\"http://www.w3.org/1999/xlink\" width=\"100.0\" height=\"100.0\" viewBox=\"36.50500679016114 47.21177662359289 2.0 2.0\" preserveAspectRatio=\"xMinYMin meet\"><g transform=\"matrix(1,0,0,-1,0,96.42355324718578)\"><circle cx=\"37.50500679016114\" cy=\"48.21177662359289\" r=\"0.06\" stroke=\"#555555\" stroke-width=\"0.02\" fill=\"#66cc99\" opacity=\"0.6\" /></g></svg>"
            ],
            "text/plain": [
              "<POINT (37.505 48.212)>"
            ]
          },
          "execution_count": 27,
          "metadata": {},
          "output_type": "execute_result"
        }
      ],
      "source": [
        "_latest_rus_advance = Point(37.50500679016114, 48.21177662359289)\n",
        "_latest_rus_advance"
      ]
    },
    {
      "cell_type": "code",
      "execution_count": 28,
      "metadata": {
        "colab": {
          "base_uri": "https://localhost:8080/",
          "height": 422
        },
        "id": "3RixJwhX1qp0",
        "outputId": "f99ca32c-940d-4af3-fed6-a6d7a9a86b77"
      },
      "outputs": [
        {
          "data": {
            "image/png": "[encoded data removed]",
            "text/plain": [
              "<Figure size 640x480 with 1 Axes>"
            ]
          },
          "metadata": {},
          "output_type": "display_data"
        }
      ],
      "source": [
        "# Display the point on top of the occupied area\n",
        "fig,ax = plt.subplots()\n",
        "occupied_ua_gdf_raw.plot(ax=ax)\n",
        "ax.scatter(_latest_rus_advance.x, _latest_rus_advance.y, color='red', marker='o');"
      ]
    },
    {
      "cell_type": "code",
      "execution_count": 29,
      "metadata": {
        "colab": {
          "base_uri": "https://localhost:8080/",
          "height": 430
        },
        "id": "kXM0TQ2a2AcH",
        "outputId": "50fb6774-f037-4540-ac45-f8b625bb5098"
      },
      "outputs": [
        {
          "data": {
            "image/png": "[encoded data removed]",
            "text/plain": [
              "<Figure size 640x480 with 1 Axes>"
            ]
          },
          "metadata": {},
          "output_type": "display_data"
        }
      ],
      "source": [
        "# Set the zoom level around the point\n",
        "fig,ax = plt.subplots()\n",
        "occupied_ua_gdf_raw.plot(ax=ax)\n",
        "ax.scatter(_latest_rus_advance.x, _latest_rus_advance.y, color='red', marker='o')\n",
        "\n",
        "buffer = 0.05  # Lower value = higher zoom\n",
        "ax.set_xlim(_latest_rus_advance.x - buffer, _latest_rus_advance.x + buffer)\n",
        "ax.set_ylim(_latest_rus_advance.y - buffer, _latest_rus_advance.y + buffer)\n",
        "plt.show()"
      ]
    },
    {
      "cell_type": "markdown",
      "metadata": {},
      "source": [
        "There is visual confirmation that it lies within the recently (today) occupied territory.\n",
        "\n",
        "Next, I will also perform a check using a more programmatic way, with the help of **.contains()** method."
      ]
    },
    {
      "cell_type": "code",
      "execution_count": 30,
      "metadata": {
        "colab": {
          "base_uri": "https://localhost:8080/"
        },
        "id": "e59gKXwa2_EM",
        "outputId": "ecfe1ded-6dbe-4f7a-f142-9dfeea0d1d6a"
      },
      "outputs": [
        {
          "data": {
            "text/plain": [
              "True"
            ]
          },
          "execution_count": 30,
          "metadata": {},
          "output_type": "execute_result"
        }
      ],
      "source": [
        "# Return true if point is within captured area, i.e the data is up to date\n",
        "occupied_ua_gdf_raw.contains(_latest_rus_advance).any()"
      ]
    },
    {
      "cell_type": "markdown",
      "metadata": {},
      "source": [
        "## Polygons Merge"
      ]
    },
    {
      "cell_type": "code",
      "execution_count": 31,
      "metadata": {
        "colab": {
          "base_uri": "https://localhost:8080/"
        },
        "id": "Tt6WxPjD4etn",
        "outputId": "02b3113b-1ce9-4c19-de15-d257bd5f1e70"
      },
      "outputs": [
        {
          "data": {
            "text/plain": [
              "0    MULTIPOLYGON (((35.20146 45.52334, 35.31126 45...\n",
              "dtype: geometry"
            ]
          },
          "execution_count": 31,
          "metadata": {},
          "output_type": "execute_result"
        }
      ],
      "source": [
        "# Merge all polygons into a single multipolygon\n",
        "occupied_ua_gsr = gpd.GeoSeries(occupied_ua_gdf_raw.union_all(), crs=4326)\n",
        "occupied_ua_gsr"
      ]
    },
    {
      "cell_type": "code",
      "execution_count": 32,
      "metadata": {
        "colab": {
          "base_uri": "https://localhost:8080/",
          "height": 447
        },
        "id": "k0gjCFAp5Rkz",
        "outputId": "1bf5c336-c787-45ed-9d5a-677400153b62"
      },
      "outputs": [
        {
          "data": {
            "image/png": "[encoded data removed]",
            "text/plain": [
              "<Figure size 640x480 with 1 Axes>"
            ]
          },
          "metadata": {},
          "output_type": "display_data"
        }
      ],
      "source": [
        "occupied_ua_gsr.plot();"
      ]
    },
    {
      "cell_type": "code",
      "execution_count": 33,
      "metadata": {},
      "outputs": [
        {
          "data": {
            "image/png": "[encoded data removed]",
            "text/plain": [
              "<Figure size 640x480 with 1 Axes>"
            ]
          },
          "metadata": {},
          "output_type": "display_data"
        }
      ],
      "source": [
        "# Check for artifacts which are often present after applying union\n",
        "occupied_ua_gsr.boundary.plot();"
      ]
    },
    {
      "cell_type": "markdown",
      "metadata": {},
      "source": [
        "## Artifacts Removal\n",
        "\n",
        "Artifacts can be seen within the geometry above. Here is a solution that might work:\n",
        "\n",
        "https://gis.stackexchange.com/questions/277334/shapely-polygon-union-results-in-strange-artifacts-of-tiny-non-overlapping-area\n",
        "\n",
        "The warning can be ignored, since buffer is not used for any precise calculation here."
      ]
    },
    {
      "cell_type": "code",
      "execution_count": 34,
      "metadata": {},
      "outputs": [
        {
          "name": "stderr",
          "output_type": "stream",
          "text": [
            "C:\\Users\\rosty\\AppData\\Local\\Temp\\ipykernel_7688\\2329887646.py:4: UserWarning: Geometry is in a geographic CRS. Results from 'buffer' are likely incorrect. Use 'GeoSeries.to_crs()' to re-project geometries to a projected CRS before this operation.\n",
            "\n",
            "  .buffer(eps, 1, join_style=JOIN_STYLE.mitre)\n",
            "C:\\Users\\rosty\\AppData\\Local\\Temp\\ipykernel_7688\\2329887646.py:5: UserWarning: Geometry is in a geographic CRS. Results from 'buffer' are likely incorrect. Use 'GeoSeries.to_crs()' to re-project geometries to a projected CRS before this operation.\n",
            "\n",
            "  .buffer(-eps, 1, join_style=JOIN_STYLE.mitre)\n"
          ]
        },
        {
          "data": {
            "text/plain": [
              "<Axes: >"
            ]
          },
          "execution_count": 34,
          "metadata": {},
          "output_type": "execute_result"
        },
        {
          "data": {
            "image/png": "[encoded data removed]",
            "text/plain": [
              "<Figure size 640x480 with 1 Axes>"
            ]
          },
          "metadata": {},
          "output_type": "display_data"
        }
      ],
      "source": [
        "eps = 0.000009\n",
        "(\n",
        "    occupied_ua_gsr\n",
        "    .buffer(eps, 1, join_style=JOIN_STYLE.mitre)\n",
        "    .buffer(-eps, 1, join_style=JOIN_STYLE.mitre)\n",
        "    .boundary\n",
        "    .plot()\n",
        "    )"
      ]
    },
    {
      "cell_type": "code",
      "execution_count": null,
      "metadata": {},
      "outputs": [],
      "source": [
        "# Applying buffer to remove union artifacts\n",
        "eps = 0.000009\n",
        "\n",
        "occupied_ua = (\n",
        "    occupied_ua_gsr\n",
        "    .buffer(eps, 1, join_style=JOIN_STYLE.mitre)\n",
        "    .buffer(-eps, 1, join_style=JOIN_STYLE.mitre)\n",
        "    .to_crs(4326)\n",
        "    .copy()\n",
        "    )"
      ]
    },
    {
      "cell_type": "code",
      "execution_count": 36,
      "metadata": {},
      "outputs": [
        {
          "data": {
            "text/plain": [
              "('EPSG:4326', 'EPSG:4326')"
            ]
          },
          "execution_count": 36,
          "metadata": {},
          "output_type": "execute_result"
        }
      ],
      "source": [
        "occupied_ua.crs.srs,occupied_ua_gsr.crs.srs"
      ]
    },
    {
      "cell_type": "markdown",
      "metadata": {},
      "source": [
        "## Post-Manipulation Area Check\n",
        "\n",
        "The use of buffer and its subsequent removal probably caused minor changes on the 'de-artifacted' polygon compared to the original one. So its better to check whether the difference is negligable or not. In case there is a large difference like 1% or even 0.01%, a lower **eps** has to be set.\n",
        "\n",
        "Given that the random point I have chosen is near Donetsk, the respective coordinate system should be used for the calculations to be accurate.\n",
        " \n",
        "https://epsg.io/9835\n",
        "\n",
        "UCS-2000 / LCS-14 Donetsk >>> **EPSG: 9835**"
      ]
    },
    {
      "cell_type": "code",
      "execution_count": 39,
      "metadata": {},
      "outputs": [
        {
          "data": {
            "text/plain": [
              "0.000027"
            ]
          },
          "execution_count": 39,
          "metadata": {},
          "output_type": "execute_result"
        }
      ],
      "source": [
        "%precision %f\n",
        "\n",
        "# Check the % difference between geometries (the lower the better)\n",
        "pct_diff = abs((occupied_ua.to_crs(9835).area.sum() - occupied_ua_gsr.to_crs(9835).area.sum()) / occupied_ua_gsr.to_crs(9835).area.sum()) * 100\n",
        "pct_diff\n"
      ]
    },
    {
      "cell_type": "markdown",
      "metadata": {},
      "source": [
        "This small difference (**0.000027%**) suggests that the 'buffering' and 'debuffering' did not significantly alter the overall area of the multipolygon."
      ]
    },
    {
      "cell_type": "code",
      "execution_count": 38,
      "metadata": {
        "id": "6ezWsndV-x2E"
      },
      "outputs": [],
      "source": [
        "# Export to GeoJSON\n",
        "occupied_ua.to_crs(4326).to_file(\"occupied-areas-ua.geojson\", driver=\"GeoJSON\")"
      ]
    }
  ],
  "metadata": {
    "colab": {
      "provenance": []
    },
    "kernelspec": {
      "display_name": "Python 3",
      "name": "python3"
    },
    "language_info": {
      "codemirror_mode": {
        "name": "ipython",
        "version": 3
      },
      "file_extension": ".py",
      "mimetype": "text/x-python",
      "name": "python",
      "nbconvert_exporter": "python",
      "pygments_lexer": "ipython3",
      "version": "3.12.4"
    }
  },
  "nbformat": 4,
  "nbformat_minor": 0
}
